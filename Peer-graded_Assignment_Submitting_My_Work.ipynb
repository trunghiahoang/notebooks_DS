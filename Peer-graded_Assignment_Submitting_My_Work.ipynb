{
 "cells": [
  {
   "cell_type": "markdown",
   "id": "6a64a81f",
   "metadata": {},
   "source": [
    "# Exercise 1: Create a Jupyter Notebook"
   ]
  },
  {
   "cell_type": "markdown",
   "id": "92202720",
   "metadata": {},
   "source": [
    "## Name: Peer-graded_Assignment_Submitting_My_Work"
   ]
  },
  {
   "cell_type": "markdown",
   "id": "0025b91a",
   "metadata": {},
   "source": [
    "# "
   ]
  },
  {
   "cell_type": "markdown",
   "id": "fd68a537",
   "metadata": {},
   "source": [
    "# Exercise 2 - Create a markdown cell with the title of the notebook."
   ]
  },
  {
   "cell_type": "markdown",
   "id": "55115f82",
   "metadata": {},
   "source": [
    "## Data Science Tools and Ecosystem"
   ]
  },
  {
   "cell_type": "markdown",
   "id": "93860196",
   "metadata": {},
   "source": [
    "#  "
   ]
  },
  {
   "cell_type": "markdown",
   "id": "5f8d00c8",
   "metadata": {},
   "source": [
    "# Exercise 3 - Create a markdown cell for an introduction."
   ]
  },
  {
   "cell_type": "markdown",
   "id": "a49eda8e",
   "metadata": {},
   "source": [
    "## Introduce\n",
    "\n",
    "In this notebook, Data Science Tools and Ecosystem are summarized."
   ]
  },
  {
   "cell_type": "markdown",
   "id": "8a3fb8c9",
   "metadata": {},
   "source": [
    "# "
   ]
  },
  {
   "cell_type": "markdown",
   "id": "cd23bfc5",
   "metadata": {},
   "source": [
    "# Exercise 4 - Create a markdown cell to list data science languages."
   ]
  },
  {
   "cell_type": "markdown",
   "id": "18ff3011",
   "metadata": {},
   "source": [
    "## Some of the popular languages that Data Scientists use are:\n",
    "\n",
    "1. Python\n",
    "2. R\n",
    "3. Julia\n",
    "4. Scala\n"
   ]
  },
  {
   "cell_type": "markdown",
   "id": "0b40098b",
   "metadata": {},
   "source": [
    "# "
   ]
  },
  {
   "cell_type": "markdown",
   "id": "02115bc3",
   "metadata": {},
   "source": [
    "# Exercise 5 - Create a markdown cell to list data science libraries"
   ]
  },
  {
   "cell_type": "markdown",
   "id": "42bfc7f3",
   "metadata": {},
   "source": [
    "## Some of the commonly used libraries used by Data Scientists include:\n",
    "\n",
    "### Python\n",
    "1. Pandas\n",
    "2. NumPy\n",
    "3. Matplotlib\n",
    "4. Seaborn\n",
    "5. Scikit-learn\n",
    "\n",
    "### R\n",
    "1. dplyr\n",
    "2. ggplot2\n",
    "3. tidyr\n",
    "4. caret\n",
    "5. lubridate\n"
   ]
  },
  {
   "cell_type": "markdown",
   "id": "2c09c725",
   "metadata": {},
   "source": [
    "# "
   ]
  },
  {
   "cell_type": "markdown",
   "id": "56f8ff28",
   "metadata": {},
   "source": [
    "# Exercise 6 - Create a markdown cell with a table of Data Science tools."
   ]
  },
  {
   "cell_type": "markdown",
   "id": "b5952a22",
   "metadata": {},
   "source": [
    "## Data Science Tools\n",
    "\n",
    "| Category        | Tools                             |\n",
    "|-----------------|-----------------------------------|\n",
    "| Data Wrangling  | Pandas, dplyr, tidyverse          |\n",
    "| Data Visualization | Matplotlib, ggplot2, Seaborn   |\n",
    "| Machine Learning | Scikit-learn, caret, TensorFlow   |\n",
    "| Statistical Analysis | SciPy, StatsModels, R           |\n",
    "| Big Data Processing | Apache Spark, Hadoop, PySpark   |\n"
   ]
  },
  {
   "cell_type": "markdown",
   "id": "a5b4787e",
   "metadata": {},
   "source": [
    "# Exercise 7 - Create a markdown cell introducing arithmetic expression examples."
   ]
  },
  {
   "cell_type": "markdown",
   "id": "f26dc8ea",
   "metadata": {},
   "source": [
    "## Below are a few examples of evaluating arithmetic expressions in Python\n",
    "\n",
    "1. Addition: `2 + 3 = 5`\n",
    "2. Subtraction: `5 - 2 = 3`\n",
    "3. Multiplication: `4 * 3 = 12`\n",
    "4. Division: `10 / 2 = 5`\n"
   ]
  },
  {
   "cell_type": "markdown",
   "id": "2349e78e",
   "metadata": {},
   "source": [
    "# Exercise 8 - Create a code cell to multiply and add numbers."
   ]
  },
  {
   "cell_type": "markdown",
   "id": "6b85d593",
   "metadata": {},
   "source": [
    "## This a simple arithmetic expression to mutiply then add integers\n",
    "\n",
    "result_multiply = (3*4) + 5\n",
    "\n",
    "result_add = 17\n",
    "\n",
    "print(\"Result of addition:\", result_add)\n"
   ]
  },
  {
   "cell_type": "markdown",
   "id": "a5eeaccf",
   "metadata": {},
   "source": [
    "# "
   ]
  },
  {
   "cell_type": "markdown",
   "id": "9c7518dc",
   "metadata": {},
   "source": [
    "# Exercise 9 - Create a code cell to convert minutes to hours."
   ]
  },
  {
   "cell_type": "markdown",
   "id": "e37553b4",
   "metadata": {},
   "source": [
    "## This will convert 200 minutes to hours by diving by 60\n",
    "\n",
    "minutes = 200\n",
    "\n",
    "hours = minutes / 60\n",
    "\n",
    "print(minutes, \"minutes is equal to\", hours, \"hours\")\n"
   ]
  },
  {
   "cell_type": "markdown",
   "id": "576486cb",
   "metadata": {},
   "source": [
    "# "
   ]
  },
  {
   "cell_type": "markdown",
   "id": "b69e8ec6",
   "metadata": {},
   "source": [
    "# Exercise 10 -Insert a markdown cell to list Objectives."
   ]
  },
  {
   "cell_type": "markdown",
   "id": "88cdea8e",
   "metadata": {},
   "source": [
    "## Objectives - List popular languages for Data Science\n",
    "\n",
    "1. Introduce basic concepts of data science.\n",
    "2. Explore common data science languages and libraries.\n",
    "3. Showcase data science tools and their applications.\n",
    "4. Demonstrate arithmetic operations and coding examples.\n",
    "5. Provide hands-on exercises for practice.\n"
   ]
  },
  {
   "cell_type": "markdown",
   "id": "a4649429",
   "metadata": {},
   "source": [
    "# "
   ]
  },
  {
   "cell_type": "markdown",
   "id": "83e96cac",
   "metadata": {},
   "source": [
    "# Exercise 11 - Create a markdown cell to indicate the Author’s name."
   ]
  },
  {
   "cell_type": "markdown",
   "id": "7a085e7d",
   "metadata": {},
   "source": [
    "## Author\n",
    "\n",
    "- Nghia Huynh\n"
   ]
  },
  {
   "cell_type": "markdown",
   "id": "a33f8380",
   "metadata": {},
   "source": [
    "# "
   ]
  },
  {
   "cell_type": "markdown",
   "id": "94a79c64",
   "metadata": {},
   "source": [
    "# Exercise 12 - Share your notebook through GitHub"
   ]
  },
  {
   "cell_type": "code",
   "execution_count": null,
   "id": "8516785a",
   "metadata": {},
   "outputs": [],
   "source": []
  },
  {
   "cell_type": "markdown",
   "id": "be42654f",
   "metadata": {},
   "source": [
    "# "
   ]
  },
  {
   "cell_type": "markdown",
   "id": "9451dd05",
   "metadata": {},
   "source": [
    "# Exercise 13 - Take a screenshot of the first page of the notebook."
   ]
  },
  {
   "cell_type": "code",
   "execution_count": null,
   "id": "2f676ed1",
   "metadata": {},
   "outputs": [],
   "source": []
  }
 ],
 "metadata": {
  "kernelspec": {
   "display_name": "Python 3 (ipykernel)",
   "language": "python",
   "name": "python3"
  },
  "language_info": {
   "codemirror_mode": {
    "name": "ipython",
    "version": 3
   },
   "file_extension": ".py",
   "mimetype": "text/x-python",
   "name": "python",
   "nbconvert_exporter": "python",
   "pygments_lexer": "ipython3",
   "version": "3.11.4"
  }
 },
 "nbformat": 4,
 "nbformat_minor": 5
}
